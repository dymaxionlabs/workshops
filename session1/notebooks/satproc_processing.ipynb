{
 "cells": [
  {
   "cell_type": "markdown",
   "id": "0aa002b9",
   "metadata": {},
   "source": [
    "### Caso base de extracción de chips"
   ]
  },
  {
   "cell_type": "code",
   "execution_count": null,
   "id": "3f5e5eb4",
   "metadata": {},
   "outputs": [],
   "source": [
    "!satproc_extract_chips     \\\n",
    "    /Users/federico/Documents/dymaxion_labs/aplatam-net/data/par_2016_1.tif \\\n",
    "    -o ./img/test/chips/160_80/ \\\n",
    "    --size 160 \\\n",
    "    --step-size 80"
   ]
  },
  {
   "cell_type": "markdown",
   "id": "9fcf17eb",
   "metadata": {},
   "source": [
    "### Extracción de chips dentro de un área de interés"
   ]
  },
  {
   "cell_type": "code",
   "execution_count": null,
   "id": "428c39bd",
   "metadata": {},
   "outputs": [],
   "source": [
    "!satproc_extract_chips     \\\n",
    "    /Users/federico/Documents/dymaxion_labs/aplatam-net/data/par_2016_1.tif \\\n",
    "    -o ./img/test/chips/sample/160_80/ \\\n",
    "    --size 160 \\\n",
    "    --step-size 80 \\\n",
    "    --aoi /Users/federico/Documents/dymaxion_labs/aplatam-net/data/aoi_sample.geojson"
   ]
  },
  {
   "cell_type": "markdown",
   "id": "ad4e6ee3",
   "metadata": {},
   "source": [
    "### Mejora del contraste"
   ]
  },
  {
   "cell_type": "code",
   "execution_count": null,
   "id": "1e698265",
   "metadata": {},
   "outputs": [],
   "source": [
    "!satproc_extract_chips     \\\n",
    "    /Users/federico/Documents/dymaxion_labs/aplatam-net/data/par_2016_1.tif \\\n",
    "    -o ./img/test/chips/contrast/160_80/ \\\n",
    "    --size 160 \\\n",
    "    --step-size 80 \\\n",
    "    --rescale \\\n",
    "    --rescale-mode percentiles \\\n",
    "    --upper-cut 98 --lower-cut 2"
   ]
  },
  {
   "cell_type": "markdown",
   "id": "0c44a8f5",
   "metadata": {},
   "source": [
    "### Extracción de chips y capa de footprints"
   ]
  },
  {
   "cell_type": "code",
   "execution_count": null,
   "id": "385da795",
   "metadata": {},
   "outputs": [],
   "source": [
    "!satproc_extract_chips     \\\n",
    "    /Users/federico/Documents/dymaxion_labs/aplatam-net/data/par_2016_1.tif \\\n",
    "    -o ./img/test/chips/footprints/160_80/ \\\n",
    "    --size 160 \\\n",
    "    --step-size 80 \\\n",
    "    --rescale \\\n",
    "    --rescale-mode percentiles \\\n",
    "    --upper-cut 98 --lower-cut 2 \\\n",
    "    --write-footprints"
   ]
  }
 ],
 "metadata": {
  "kernelspec": {
   "display_name": "Python 3 (ipykernel)",
   "language": "python",
   "name": "python3"
  },
  "language_info": {
   "codemirror_mode": {
    "name": "ipython",
    "version": 3
   },
   "file_extension": ".py",
   "mimetype": "text/x-python",
   "name": "python",
   "nbconvert_exporter": "python",
   "pygments_lexer": "ipython3",
   "version": "3.9.10"
  }
 },
 "nbformat": 4,
 "nbformat_minor": 5
}

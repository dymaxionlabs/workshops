{
 "cells": [
  {
   "cell_type": "code",
   "execution_count": 1,
   "id": "d9b33d2b",
   "metadata": {},
   "outputs": [],
   "source": [
    "import geopandas as gpd"
   ]
  },
  {
   "cell_type": "code",
   "execution_count": 2,
   "id": "9d8a7cc5",
   "metadata": {},
   "outputs": [],
   "source": [
    "dict_layer_year = {'argentina-2016-encuestas': 2016,\n",
    "                   'catastro-peru-2018-para-datos-abiertos-ficha_catastro_peru':  2018,\n",
    "                   'colombia-derecho-a-bogota-2015-encuestas': 2015,\n",
    "                   'guatemala-2016-encuestas': 2016,\n",
    "                   'honduras-2018-censo-de-asentamientos-informales': 2018,\n",
    "                   'Limite_Favelas_2016': 2016,\n",
    "                   'paraguay-2015-encuestas': 2016\n",
    "}\n",
    "\n",
    "dict_layer_country = {'argentina-2016-encuestas': 'arg',\n",
    "                   'catastro-peru-2018-para-datos-abiertos-ficha_catastro_peru':  'per',\n",
    "                   'colombia-derecho-a-bogota-2015-encuestas': 'col',\n",
    "                   'guatemala-2016-encuestas': 'gua',\n",
    "                   'honduras-2018-censo-de-asentamientos-informales': 'hon',\n",
    "                   'Limite_Favelas_2016': 'bra',\n",
    "                   'paraguay-2015-encuestas': 'par'\n",
    "}"
   ]
  },
  {
   "cell_type": "code",
   "execution_count": 3,
   "id": "e0bf15a5",
   "metadata": {},
   "outputs": [
    {
     "data": {
      "text/html": [
       "<div>\n",
       "<style scoped>\n",
       "    .dataframe tbody tr th:only-of-type {\n",
       "        vertical-align: middle;\n",
       "    }\n",
       "\n",
       "    .dataframe tbody tr th {\n",
       "        vertical-align: top;\n",
       "    }\n",
       "\n",
       "    .dataframe thead th {\n",
       "        text-align: right;\n",
       "    }\n",
       "</style>\n",
       "<table border=\"1\" class=\"dataframe\">\n",
       "  <thead>\n",
       "    <tr style=\"text-align: right;\">\n",
       "      <th></th>\n",
       "      <th>layer</th>\n",
       "      <th>path</th>\n",
       "      <th>geometry</th>\n",
       "    </tr>\n",
       "  </thead>\n",
       "  <tbody>\n",
       "    <tr>\n",
       "      <th>0</th>\n",
       "      <td>argentina-2016-encuestas</td>\n",
       "      <td>file:///Users/federico/Documents/dymaxion_labs...</td>\n",
       "      <td>MULTIPOLYGON (((-58.80922 -34.53435, -58.80286...</td>\n",
       "    </tr>\n",
       "    <tr>\n",
       "      <th>1</th>\n",
       "      <td>argentina-2016-encuestas</td>\n",
       "      <td>file:///Users/federico/Documents/dymaxion_labs...</td>\n",
       "      <td>MULTIPOLYGON (((-68.09600 -38.94102, -68.09661...</td>\n",
       "    </tr>\n",
       "    <tr>\n",
       "      <th>2</th>\n",
       "      <td>argentina-2016-encuestas</td>\n",
       "      <td>file:///Users/federico/Documents/dymaxion_labs...</td>\n",
       "      <td>MULTIPOLYGON (((-68.11663 -38.92904, -68.11651...</td>\n",
       "    </tr>\n",
       "    <tr>\n",
       "      <th>3</th>\n",
       "      <td>argentina-2016-encuestas</td>\n",
       "      <td>file:///Users/federico/Documents/dymaxion_labs...</td>\n",
       "      <td>MULTIPOLYGON (((-68.11655 -38.93412, -68.11710...</td>\n",
       "    </tr>\n",
       "    <tr>\n",
       "      <th>4</th>\n",
       "      <td>argentina-2016-encuestas</td>\n",
       "      <td>file:///Users/federico/Documents/dymaxion_labs...</td>\n",
       "      <td>MULTIPOLYGON (((-68.07649 -38.94141, -68.07593...</td>\n",
       "    </tr>\n",
       "    <tr>\n",
       "      <th>...</th>\n",
       "      <td>...</td>\n",
       "      <td>...</td>\n",
       "      <td>...</td>\n",
       "    </tr>\n",
       "    <tr>\n",
       "      <th>6639</th>\n",
       "      <td>paraguay-2015-encuestas</td>\n",
       "      <td>file:///Users/federico/Documents/dymaxion_labs...</td>\n",
       "      <td>MULTIPOLYGON (((-57.54809 -25.20627, -57.54784...</td>\n",
       "    </tr>\n",
       "    <tr>\n",
       "      <th>6640</th>\n",
       "      <td>paraguay-2015-encuestas</td>\n",
       "      <td>file:///Users/federico/Documents/dymaxion_labs...</td>\n",
       "      <td>MULTIPOLYGON (((-57.52596 -25.23694, -57.52575...</td>\n",
       "    </tr>\n",
       "    <tr>\n",
       "      <th>6641</th>\n",
       "      <td>paraguay-2015-encuestas</td>\n",
       "      <td>file:///Users/federico/Documents/dymaxion_labs...</td>\n",
       "      <td>MULTIPOLYGON (((-57.42215 -25.23246, -57.42205...</td>\n",
       "    </tr>\n",
       "    <tr>\n",
       "      <th>6642</th>\n",
       "      <td>paraguay-2015-encuestas</td>\n",
       "      <td>file:///Users/federico/Documents/dymaxion_labs...</td>\n",
       "      <td>GEOMETRYCOLLECTION EMPTY</td>\n",
       "    </tr>\n",
       "    <tr>\n",
       "      <th>6643</th>\n",
       "      <td>paraguay-2015-encuestas</td>\n",
       "      <td>file:///Users/federico/Documents/dymaxion_labs...</td>\n",
       "      <td>MULTIPOLYGON (((-57.41124 -25.38123, -57.40894...</td>\n",
       "    </tr>\n",
       "  </tbody>\n",
       "</table>\n",
       "<p>6644 rows × 3 columns</p>\n",
       "</div>"
      ],
      "text/plain": [
       "                         layer  \\\n",
       "0     argentina-2016-encuestas   \n",
       "1     argentina-2016-encuestas   \n",
       "2     argentina-2016-encuestas   \n",
       "3     argentina-2016-encuestas   \n",
       "4     argentina-2016-encuestas   \n",
       "...                        ...   \n",
       "6639   paraguay-2015-encuestas   \n",
       "6640   paraguay-2015-encuestas   \n",
       "6641   paraguay-2015-encuestas   \n",
       "6642   paraguay-2015-encuestas   \n",
       "6643   paraguay-2015-encuestas   \n",
       "\n",
       "                                                   path  \\\n",
       "0     file:///Users/federico/Documents/dymaxion_labs...   \n",
       "1     file:///Users/federico/Documents/dymaxion_labs...   \n",
       "2     file:///Users/federico/Documents/dymaxion_labs...   \n",
       "3     file:///Users/federico/Documents/dymaxion_labs...   \n",
       "4     file:///Users/federico/Documents/dymaxion_labs...   \n",
       "...                                                 ...   \n",
       "6639  file:///Users/federico/Documents/dymaxion_labs...   \n",
       "6640  file:///Users/federico/Documents/dymaxion_labs...   \n",
       "6641  file:///Users/federico/Documents/dymaxion_labs...   \n",
       "6642  file:///Users/federico/Documents/dymaxion_labs...   \n",
       "6643  file:///Users/federico/Documents/dymaxion_labs...   \n",
       "\n",
       "                                               geometry  \n",
       "0     MULTIPOLYGON (((-58.80922 -34.53435, -58.80286...  \n",
       "1     MULTIPOLYGON (((-68.09600 -38.94102, -68.09661...  \n",
       "2     MULTIPOLYGON (((-68.11663 -38.92904, -68.11651...  \n",
       "3     MULTIPOLYGON (((-68.11655 -38.93412, -68.11710...  \n",
       "4     MULTIPOLYGON (((-68.07649 -38.94141, -68.07593...  \n",
       "...                                                 ...  \n",
       "6639  MULTIPOLYGON (((-57.54809 -25.20627, -57.54784...  \n",
       "6640  MULTIPOLYGON (((-57.52596 -25.23694, -57.52575...  \n",
       "6641  MULTIPOLYGON (((-57.42215 -25.23246, -57.42205...  \n",
       "6642                           GEOMETRYCOLLECTION EMPTY  \n",
       "6643  MULTIPOLYGON (((-57.41124 -25.38123, -57.40894...  \n",
       "\n",
       "[6644 rows x 3 columns]"
      ]
     },
     "execution_count": 3,
     "metadata": {},
     "output_type": "execute_result"
    }
   ],
   "source": [
    "gpd.read_file('../data/informal_settlements_all.gpkg')"
   ]
  },
  {
   "cell_type": "code",
   "execution_count": 4,
   "id": "f792c9b2",
   "metadata": {},
   "outputs": [
    {
     "data": {
      "text/plain": [
       "(6446, 3)"
      ]
     },
     "execution_count": 4,
     "metadata": {},
     "output_type": "execute_result"
    }
   ],
   "source": [
    "is_path = '../data/informal_settlements_all.gpkg'\n",
    "gdf = gpd.read_file(is_path)\n",
    "gdf = gdf[~gdf.geometry.is_empty]\n",
    "gdf.shape"
   ]
  },
  {
   "cell_type": "code",
   "execution_count": 5,
   "id": "48ae7b95",
   "metadata": {},
   "outputs": [],
   "source": [
    "gdf['class'] = 'A'"
   ]
  },
  {
   "cell_type": "code",
   "execution_count": 6,
   "id": "61cbf109",
   "metadata": {},
   "outputs": [
    {
     "name": "stderr",
     "output_type": "stream",
     "text": [
      "/Users/federico/opt/anaconda3/envs/satprocenv/lib/python3.9/site-packages/geopandas/io/file.py:362: FutureWarning: pandas.Int64Index is deprecated and will be removed from pandas in a future version. Use pandas.Index with the appropriate dtype instead.\n",
      "  pd.Int64Index,\n"
     ]
    }
   ],
   "source": [
    "gdf.to_file('../data/informal_settlements_epsg4326_claseA.gpkg')"
   ]
  },
  {
   "cell_type": "code",
   "execution_count": 7,
   "id": "c0235c6b",
   "metadata": {},
   "outputs": [
    {
     "name": "stderr",
     "output_type": "stream",
     "text": [
      "/var/folders/nc/n4mcj2vn7pg5xhhqgdxkjcdh0000gn/T/ipykernel_13292/1754581195.py:2: FutureWarning: Currently, index_parts defaults to True, but in the future, it will default to False to be consistent with Pandas. Use `index_parts=True` to keep the current behavior and True/False to silence the warning.\n",
      "  gdf_dissolved = gdf.dissolve().explode().reset_index(drop=True)[['geometry']]\n"
     ]
    },
    {
     "data": {
      "text/html": [
       "<div>\n",
       "<style scoped>\n",
       "    .dataframe tbody tr th:only-of-type {\n",
       "        vertical-align: middle;\n",
       "    }\n",
       "\n",
       "    .dataframe tbody tr th {\n",
       "        vertical-align: top;\n",
       "    }\n",
       "\n",
       "    .dataframe thead th {\n",
       "        text-align: right;\n",
       "    }\n",
       "</style>\n",
       "<table border=\"1\" class=\"dataframe\">\n",
       "  <thead>\n",
       "    <tr style=\"text-align: right;\">\n",
       "      <th></th>\n",
       "      <th>geometry</th>\n",
       "      <th>layer</th>\n",
       "      <th>path</th>\n",
       "      <th>class</th>\n",
       "    </tr>\n",
       "  </thead>\n",
       "  <tbody>\n",
       "    <tr>\n",
       "      <th>0</th>\n",
       "      <td>POLYGON ((-90.52242 14.47005, -90.52356 14.468...</td>\n",
       "      <td>guatemala-2016-encuestas</td>\n",
       "      <td>file:///Users/federico/Documents/dymaxion_labs...</td>\n",
       "      <td>A</td>\n",
       "    </tr>\n",
       "    <tr>\n",
       "      <th>1</th>\n",
       "      <td>POLYGON ((-90.59283 14.67266, -90.59349 14.674...</td>\n",
       "      <td>guatemala-2016-encuestas</td>\n",
       "      <td>file:///Users/federico/Documents/dymaxion_labs...</td>\n",
       "      <td>A</td>\n",
       "    </tr>\n",
       "    <tr>\n",
       "      <th>2</th>\n",
       "      <td>POLYGON ((-76.96437 -12.14876, -76.96581 -12.1...</td>\n",
       "      <td>catastro-peru-2018-para-datos-abiertos-ficha_c...</td>\n",
       "      <td>file:///Users/federico/Documents/dymaxion_labs...</td>\n",
       "      <td>A</td>\n",
       "    </tr>\n",
       "    <tr>\n",
       "      <th>3</th>\n",
       "      <td>POLYGON ((-74.17127 4.51761, -74.17198 4.51879...</td>\n",
       "      <td>colombia-derecho-a-bogota-2015-encuestas</td>\n",
       "      <td>file:///Users/federico/Documents/dymaxion_labs...</td>\n",
       "      <td>A</td>\n",
       "    </tr>\n",
       "    <tr>\n",
       "      <th>4</th>\n",
       "      <td>POLYGON ((-74.21967 4.63494, -74.21797 4.63534...</td>\n",
       "      <td>colombia-derecho-a-bogota-2015-encuestas</td>\n",
       "      <td>file:///Users/federico/Documents/dymaxion_labs...</td>\n",
       "      <td>A</td>\n",
       "    </tr>\n",
       "  </tbody>\n",
       "</table>\n",
       "</div>"
      ],
      "text/plain": [
       "                                            geometry  \\\n",
       "0  POLYGON ((-90.52242 14.47005, -90.52356 14.468...   \n",
       "1  POLYGON ((-90.59283 14.67266, -90.59349 14.674...   \n",
       "2  POLYGON ((-76.96437 -12.14876, -76.96581 -12.1...   \n",
       "3  POLYGON ((-74.17127 4.51761, -74.17198 4.51879...   \n",
       "4  POLYGON ((-74.21967 4.63494, -74.21797 4.63534...   \n",
       "\n",
       "                                               layer  \\\n",
       "0                           guatemala-2016-encuestas   \n",
       "1                           guatemala-2016-encuestas   \n",
       "2  catastro-peru-2018-para-datos-abiertos-ficha_c...   \n",
       "3           colombia-derecho-a-bogota-2015-encuestas   \n",
       "4           colombia-derecho-a-bogota-2015-encuestas   \n",
       "\n",
       "                                                path class  \n",
       "0  file:///Users/federico/Documents/dymaxion_labs...     A  \n",
       "1  file:///Users/federico/Documents/dymaxion_labs...     A  \n",
       "2  file:///Users/federico/Documents/dymaxion_labs...     A  \n",
       "3  file:///Users/federico/Documents/dymaxion_labs...     A  \n",
       "4  file:///Users/federico/Documents/dymaxion_labs...     A  "
      ]
     },
     "execution_count": 7,
     "metadata": {},
     "output_type": "execute_result"
    }
   ],
   "source": [
    "gdf['geometry'] = gdf.to_crs('epsg:3857').buffer(2000).to_crs('epsg:4326')\n",
    "gdf_dissolved = gdf.dissolve().explode().reset_index(drop=True)[['geometry']]\n",
    "gdf_dissolved = gdf_dissolved.sjoin(gdf, how='left')\n",
    "gdf_dissolved = gdf_dissolved.drop('index_right', axis=1).drop_duplicates()\n",
    "gdf_dissolved.head()"
   ]
  },
  {
   "cell_type": "code",
   "execution_count": 8,
   "id": "00bdbfce",
   "metadata": {},
   "outputs": [],
   "source": [
    "gdf_dissolved['year'] = gdf_dissolved['layer'].map(dict_layer_year)\n",
    "gdf_dissolved['country'] = gdf_dissolved['layer'].map(dict_layer_country)\n",
    "gdf_dissolved['id'] = gdf_dissolved.groupby('country').cumcount()+1"
   ]
  },
  {
   "cell_type": "code",
   "execution_count": 9,
   "id": "28178b04",
   "metadata": {},
   "outputs": [],
   "source": [
    "gdf_dissolved['class'] = 'A'"
   ]
  },
  {
   "cell_type": "code",
   "execution_count": 10,
   "id": "61c771a2",
   "metadata": {},
   "outputs": [
    {
     "data": {
      "text/plain": [
       "(365, 7)"
      ]
     },
     "execution_count": 10,
     "metadata": {},
     "output_type": "execute_result"
    }
   ],
   "source": [
    "gdf_dissolved.shape"
   ]
  },
  {
   "cell_type": "code",
   "execution_count": 11,
   "id": "ce2f2d2c",
   "metadata": {},
   "outputs": [
    {
     "data": {
      "text/html": [
       "<div>\n",
       "<style scoped>\n",
       "    .dataframe tbody tr th:only-of-type {\n",
       "        vertical-align: middle;\n",
       "    }\n",
       "\n",
       "    .dataframe tbody tr th {\n",
       "        vertical-align: top;\n",
       "    }\n",
       "\n",
       "    .dataframe thead th {\n",
       "        text-align: right;\n",
       "    }\n",
       "</style>\n",
       "<table border=\"1\" class=\"dataframe\">\n",
       "  <thead>\n",
       "    <tr style=\"text-align: right;\">\n",
       "      <th></th>\n",
       "      <th>geometry</th>\n",
       "      <th>layer</th>\n",
       "      <th>path</th>\n",
       "      <th>class</th>\n",
       "      <th>year</th>\n",
       "      <th>country</th>\n",
       "      <th>id</th>\n",
       "    </tr>\n",
       "  </thead>\n",
       "  <tbody>\n",
       "    <tr>\n",
       "      <th>360</th>\n",
       "      <td>POLYGON ((-54.59626 -25.89846, -54.59453 -25.8...</td>\n",
       "      <td>argentina-2016-encuestas</td>\n",
       "      <td>file:///Users/federico/Documents/dymaxion_labs...</td>\n",
       "      <td>A</td>\n",
       "      <td>2016</td>\n",
       "      <td>arg</td>\n",
       "      <td>352</td>\n",
       "    </tr>\n",
       "    <tr>\n",
       "      <th>361</th>\n",
       "      <td>POLYGON ((-53.99624 -25.67202, -53.99586 -25.6...</td>\n",
       "      <td>argentina-2016-encuestas</td>\n",
       "      <td>file:///Users/federico/Documents/dymaxion_labs...</td>\n",
       "      <td>A</td>\n",
       "      <td>2016</td>\n",
       "      <td>arg</td>\n",
       "      <td>353</td>\n",
       "    </tr>\n",
       "    <tr>\n",
       "      <th>362</th>\n",
       "      <td>POLYGON ((-54.52725 -25.63598, -54.52636 -25.6...</td>\n",
       "      <td>argentina-2016-encuestas</td>\n",
       "      <td>file:///Users/federico/Documents/dymaxion_labs...</td>\n",
       "      <td>A</td>\n",
       "      <td>2016</td>\n",
       "      <td>arg</td>\n",
       "      <td>354</td>\n",
       "    </tr>\n",
       "    <tr>\n",
       "      <th>363</th>\n",
       "      <td>POLYGON ((-43.70421 -22.99074, -43.70433 -22.9...</td>\n",
       "      <td>Limite_Favelas_2016</td>\n",
       "      <td>/Users/federico/Downloads/Limite_Favelas_2016....</td>\n",
       "      <td>A</td>\n",
       "      <td>2016</td>\n",
       "      <td>bra</td>\n",
       "      <td>1</td>\n",
       "    </tr>\n",
       "    <tr>\n",
       "      <th>364</th>\n",
       "      <td>POLYGON ((-43.09631 -22.78161, -43.09766 -22.7...</td>\n",
       "      <td>Limite_Favelas_2016</td>\n",
       "      <td>/Users/federico/Downloads/Limite_Favelas_2016....</td>\n",
       "      <td>A</td>\n",
       "      <td>2016</td>\n",
       "      <td>bra</td>\n",
       "      <td>2</td>\n",
       "    </tr>\n",
       "  </tbody>\n",
       "</table>\n",
       "</div>"
      ],
      "text/plain": [
       "                                              geometry  \\\n",
       "360  POLYGON ((-54.59626 -25.89846, -54.59453 -25.8...   \n",
       "361  POLYGON ((-53.99624 -25.67202, -53.99586 -25.6...   \n",
       "362  POLYGON ((-54.52725 -25.63598, -54.52636 -25.6...   \n",
       "363  POLYGON ((-43.70421 -22.99074, -43.70433 -22.9...   \n",
       "364  POLYGON ((-43.09631 -22.78161, -43.09766 -22.7...   \n",
       "\n",
       "                        layer  \\\n",
       "360  argentina-2016-encuestas   \n",
       "361  argentina-2016-encuestas   \n",
       "362  argentina-2016-encuestas   \n",
       "363       Limite_Favelas_2016   \n",
       "364       Limite_Favelas_2016   \n",
       "\n",
       "                                                  path class  year country  \\\n",
       "360  file:///Users/federico/Documents/dymaxion_labs...     A  2016     arg   \n",
       "361  file:///Users/federico/Documents/dymaxion_labs...     A  2016     arg   \n",
       "362  file:///Users/federico/Documents/dymaxion_labs...     A  2016     arg   \n",
       "363  /Users/federico/Downloads/Limite_Favelas_2016....     A  2016     bra   \n",
       "364  /Users/federico/Downloads/Limite_Favelas_2016....     A  2016     bra   \n",
       "\n",
       "      id  \n",
       "360  352  \n",
       "361  353  \n",
       "362  354  \n",
       "363    1  \n",
       "364    2  "
      ]
     },
     "execution_count": 11,
     "metadata": {},
     "output_type": "execute_result"
    }
   ],
   "source": [
    "gdf_dissolved.tail()"
   ]
  },
  {
   "cell_type": "code",
   "execution_count": 12,
   "id": "062ce1b2",
   "metadata": {},
   "outputs": [
    {
     "name": "stderr",
     "output_type": "stream",
     "text": [
      "/Users/federico/opt/anaconda3/envs/satprocenv/lib/python3.9/site-packages/geopandas/io/file.py:362: FutureWarning: pandas.Int64Index is deprecated and will be removed from pandas in a future version. Use pandas.Index with the appropriate dtype instead.\n",
      "  pd.Int64Index,\n"
     ]
    }
   ],
   "source": [
    "gdf_dissolved.to_file('../data/informal_settlements_epsg4326_claseA_buff2000_dissolve.gpkg')"
   ]
  }
 ],
 "metadata": {
  "kernelspec": {
   "display_name": "Python 3 (ipykernel)",
   "language": "python",
   "name": "python3"
  },
  "language_info": {
   "codemirror_mode": {
    "name": "ipython",
    "version": 3
   },
   "file_extension": ".py",
   "mimetype": "text/x-python",
   "name": "python",
   "nbconvert_exporter": "python",
   "pygments_lexer": "ipython3",
   "version": "3.9.10"
  }
 },
 "nbformat": 4,
 "nbformat_minor": 5
}
